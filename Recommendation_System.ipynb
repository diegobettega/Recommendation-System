{
 "cells": [
  {
   "cell_type": "markdown",
   "metadata": {
    "colab_type": "text",
    "id": "S37hdGAtxNL3"
   },
   "source": [
    "Import Libraries:"
   ]
  },
  {
   "cell_type": "code",
   "execution_count": 1,
   "metadata": {
    "colab": {
     "base_uri": "https://localhost:8080/",
     "height": 51
    },
    "colab_type": "code",
    "executionInfo": {
     "elapsed": 1363,
     "status": "ok",
     "timestamp": 1587396716756,
     "user": {
      "displayName": "Diego Bettega",
      "photoUrl": "",
      "userId": "18155426968625496378"
     },
     "user_tz": -60
    },
    "id": "Sn5ePUQ1wcGJ",
    "outputId": "655d1f0f-ccb3-4170-9750-4058b6358c71"
   },
   "outputs": [
    {
     "data": {
      "text/html": [
       "<style>.container { width:100% !important; }</style>"
      ],
      "text/plain": [
       "<IPython.core.display.HTML object>"
      ]
     },
     "metadata": {},
     "output_type": "display_data"
    }
   ],
   "source": [
    "import os\n",
    "import numpy as np \n",
    "import pandas as pd\n",
    "import matplotlib.pyplot as plt\n",
    "import seaborn as sns\n",
    "import missingno as msno\n",
    "from sklearn.model_selection import StratifiedShuffleSplit\n",
    "from sklearn.metrics import mean_squared_error\n",
    "\n",
    "from surprise import Dataset\n",
    "from surprise import Reader  \n",
    "from surprise import SVD\n",
    "from surprise import KNNWithMeans\n",
    "from surprise.model_selection import GridSearchCV\n",
    "from surprise.model_selection import train_test_split as surprise_train_test_split\n",
    "from surprise import accuracy\n",
    "from surprise.accuracy import rmse\n",
    "from collections import defaultdict\n",
    "\n",
    "import numpy as np\n",
    "import pandas as pd\n",
    "import torch\n",
    "import torch.nn as nn\n",
    "import torch.nn.parallel\n",
    "import torch.optim as optim\n",
    "import torch.utils.data\n",
    "from torch.autograd import Variable\n",
    "\n",
    "from IPython.display import display, Image\n",
    "from IPython.core.display import display, HTML\n",
    "display(HTML(\"<style>.container { width:100% !important; }</style>\")) # change the cell width"
   ]
  },
  {
   "cell_type": "markdown",
   "metadata": {
    "colab_type": "text",
    "id": "hgK4kRYSxkzA"
   },
   "source": [
    "Read and explore the dataset:"
   ]
  },
  {
   "cell_type": "code",
   "execution_count": 2,
   "metadata": {
    "colab": {
     "base_uri": "https://localhost:8080/",
     "height": 221
    },
    "colab_type": "code",
    "executionInfo": {
     "elapsed": 9830,
     "status": "ok",
     "timestamp": 1587396756001,
     "user": {
      "displayName": "Diego Bettega",
      "photoUrl": "",
      "userId": "18155426968625496378"
     },
     "user_tz": -60
    },
    "id": "8rLndA1EwcXw",
    "outputId": "81d07b99-ee18-4df9-d825-6c7193687b3a"
   },
   "outputs": [
    {
     "name": "stdout",
     "output_type": "stream",
     "text": [
      "This dataset has 7824482 rows, and 3 columns\n"
     ]
    },
    {
     "data": {
      "text/html": [
       "<div>\n",
       "<style scoped>\n",
       "    .dataframe tbody tr th:only-of-type {\n",
       "        vertical-align: middle;\n",
       "    }\n",
       "\n",
       "    .dataframe tbody tr th {\n",
       "        vertical-align: top;\n",
       "    }\n",
       "\n",
       "    .dataframe thead th {\n",
       "        text-align: right;\n",
       "    }\n",
       "</style>\n",
       "<table border=\"1\" class=\"dataframe\">\n",
       "  <thead>\n",
       "    <tr style=\"text-align: right;\">\n",
       "      <th></th>\n",
       "      <th>userId</th>\n",
       "      <th>productId</th>\n",
       "      <th>Rating</th>\n",
       "    </tr>\n",
       "  </thead>\n",
       "  <tbody>\n",
       "    <tr>\n",
       "      <td>0</td>\n",
       "      <td>AKM1MP6P0OYPR</td>\n",
       "      <td>0132793040</td>\n",
       "      <td>5.0</td>\n",
       "    </tr>\n",
       "    <tr>\n",
       "      <td>1</td>\n",
       "      <td>A2CX7LUOHB2NDG</td>\n",
       "      <td>0321732944</td>\n",
       "      <td>5.0</td>\n",
       "    </tr>\n",
       "    <tr>\n",
       "      <td>2</td>\n",
       "      <td>A2NWSAGRHCP8N5</td>\n",
       "      <td>0439886341</td>\n",
       "      <td>1.0</td>\n",
       "    </tr>\n",
       "    <tr>\n",
       "      <td>3</td>\n",
       "      <td>A2WNBOD3WNDNKT</td>\n",
       "      <td>0439886341</td>\n",
       "      <td>3.0</td>\n",
       "    </tr>\n",
       "    <tr>\n",
       "      <td>4</td>\n",
       "      <td>A1GI0U4ZRJA8WN</td>\n",
       "      <td>0439886341</td>\n",
       "      <td>1.0</td>\n",
       "    </tr>\n",
       "  </tbody>\n",
       "</table>\n",
       "</div>"
      ],
      "text/plain": [
       "           userId   productId  Rating\n",
       "0   AKM1MP6P0OYPR  0132793040     5.0\n",
       "1  A2CX7LUOHB2NDG  0321732944     5.0\n",
       "2  A2NWSAGRHCP8N5  0439886341     1.0\n",
       "3  A2WNBOD3WNDNKT  0439886341     3.0\n",
       "4  A1GI0U4ZRJA8WN  0439886341     1.0"
      ]
     },
     "execution_count": 2,
     "metadata": {},
     "output_type": "execute_result"
    }
   ],
   "source": [
    "df = pd.read_csv('ratings_Electronics.csv', header=None)\n",
    "df.columns = ['userId', 'productId', 'Rating', 'timestamp']\n",
    "df.drop(['timestamp'], axis=1, inplace=True)\n",
    "print('This dataset has ' + str(df.shape[0]) + ' rows, and ' + str(df.shape[1]) + ' columns')\n",
    "df.head()"
   ]
  },
  {
   "cell_type": "markdown",
   "metadata": {
    "colab_type": "text",
    "id": "vNzcGJ7V1MJu"
   },
   "source": [
    "Checking for data types and NaN values:"
   ]
  },
  {
   "cell_type": "code",
   "execution_count": 3,
   "metadata": {
    "colab": {
     "base_uri": "https://localhost:8080/",
     "height": 896
    },
    "colab_type": "code",
    "executionInfo": {
     "elapsed": 13098,
     "status": "ok",
     "timestamp": 1587396772501,
     "user": {
      "displayName": "Diego Bettega",
      "photoUrl": "",
      "userId": "18155426968625496378"
     },
     "user_tz": -60
    },
    "id": "hyO61wmowccc",
    "outputId": "d5589e00-2174-47ca-f379-dd4a57a63012"
   },
   "outputs": [
    {
     "name": "stdout",
     "output_type": "stream",
     "text": [
      "<class 'pandas.core.frame.DataFrame'>\n",
      "RangeIndex: 7824482 entries, 0 to 7824481\n",
      "Data columns (total 3 columns):\n",
      "userId       object\n",
      "productId    object\n",
      "Rating       float64\n",
      "dtypes: float64(1), object(2)\n",
      "memory usage: 179.1+ MB\n",
      "\n",
      "\n",
      "\n",
      "Total NaN values =  0\n"
     ]
    },
    {
     "data": {
      "image/png": "[encoded data removed]",
      "text/plain": [
       "<Figure size 1800x720 with 2 Axes>"
      ]
     },
     "metadata": {
      "needs_background": "light"
     },
     "output_type": "display_data"
    }
   ],
   "source": [
    "df.info()\n",
    "msno.matrix(df)\n",
    "print('\\n\\n\\nTotal NaN values = ', df.isna().sum().sum())"
   ]
  },
  {
   "cell_type": "markdown",
   "metadata": {
    "colab_type": "text",
    "id": "2nfmH0MK1yo1"
   },
   "source": [
    "Check the distribution of the ratings:"
   ]
  },
  {
   "cell_type": "code",
   "execution_count": 4,
   "metadata": {
    "colab": {
     "base_uri": "https://localhost:8080/",
     "height": 290
    },
    "colab_type": "code",
    "executionInfo": {
     "elapsed": 10898,
     "status": "ok",
     "timestamp": 1587396772781,
     "user": {
      "displayName": "Diego Bettega",
      "photoUrl": "",
      "userId": "18155426968625496378"
     },
     "user_tz": -60
    },
    "id": "mVXrF2REwcVH",
    "outputId": "8bf6485e-e52d-4eb7-c869-7c61f63d33ad"
   },
   "outputs": [
    {
     "data": {
      "image/png": "[encoded data removed]",
      "text/plain": [
       "<Figure size 432x288 with 1 Axes>"
      ]
     },
     "metadata": {
      "needs_background": "light"
     },
     "output_type": "display_data"
    }
   ],
   "source": [
    "distribution = sns.countplot(df['Rating'])"
   ]
  },
  {
   "cell_type": "code",
   "execution_count": 5,
   "metadata": {
    "colab": {
     "base_uri": "https://localhost:8080/",
     "height": 51
    },
    "colab_type": "code",
    "executionInfo": {
     "elapsed": 12860,
     "status": "ok",
     "timestamp": 1587396776723,
     "user": {
      "displayName": "Diego Bettega",
      "photoUrl": "",
      "userId": "18155426968625496378"
     },
     "user_tz": -60
    },
    "id": "SNHbJxQzwcQz",
    "outputId": "573f8ae9-fdf9-4e4c-da7d-909498921ee1"
   },
   "outputs": [
    {
     "name": "stdout",
     "output_type": "stream",
     "text": [
      "There are 4201696 unique users in the dataset\n",
      "There are 476002 unique products in the dataset\n"
     ]
    }
   ],
   "source": [
    "print('There are {} unique users in the dataset'.format(df.userId.nunique()))\n",
    "print('There are {} unique products in the dataset'.format(df.productId.nunique()))"
   ]
  },
  {
   "cell_type": "markdown",
   "metadata": {
    "colab_type": "text",
    "id": "o9S7u79Y7VqC"
   },
   "source": [
    "Take a subset of the dataset (users with at least 50 ratings) to make it denser:"
   ]
  },
  {
   "cell_type": "code",
   "execution_count": 6,
   "metadata": {
    "colab": {
     "base_uri": "https://localhost:8080/",
     "height": 51
    },
    "colab_type": "code",
    "executionInfo": {
     "elapsed": 31763,
     "status": "ok",
     "timestamp": 1587396796578,
     "user": {
      "displayName": "Diego Bettega",
      "photoUrl": "",
      "userId": "18155426968625496378"
     },
     "user_tz": -60
    },
    "id": "RnLkwECywcPZ",
    "outputId": "4088f66a-bb15-4fec-8de9-6c9b3ac6d7ce"
   },
   "outputs": [
    {
     "name": "stdout",
     "output_type": "stream",
     "text": [
      "Now there are 1540 unique users in the dataset\n",
      "Now there are 48190 unique products in the dataset\n"
     ]
    }
   ],
   "source": [
    "df_userId = df.groupby(['userId']).agg('count')\n",
    "selected_users = list(df_userId[df_userId['Rating']>=50].index)\n",
    "df = df[df['userId'].isin(selected_users)]\n",
    "df.reset_index(inplace=True, drop=True)\n",
    "\n",
    "print('Now there are {} unique users in the dataset'.format(df.userId.nunique()))\n",
    "print('Now there are {} unique products in the dataset'.format(df.productId.nunique()))"
   ]
  },
  {
   "cell_type": "markdown",
   "metadata": {
    "colab_type": "text",
    "id": "_yxNP1om71bO"
   },
   "source": [
    "Shuffle the dataset because some learning algorithms are sensitive to the order of the training instances:"
   ]
  },
  {
   "cell_type": "code",
   "execution_count": 7,
   "metadata": {
    "colab": {},
    "colab_type": "code",
    "id": "LbmyG4vVwcMi"
   },
   "outputs": [],
   "source": [
    "df = df.sample(frac=1, random_state=1)"
   ]
  },
  {
   "cell_type": "markdown",
   "metadata": {
    "colab_type": "text",
    "id": "2SlJnAvt8Nmx"
   },
   "source": [
    "Spliting the data in train and test set\n",
    "\n",
    "I am going to use 70% of data for building the algorithm and 30% for the final test to have a realistic evaluation of the model in production:"
   ]
  },
  {
   "cell_type": "code",
   "execution_count": 8,
   "metadata": {
    "colab": {
     "base_uri": "https://localhost:8080/",
     "height": 51
    },
    "colab_type": "code",
    "executionInfo": {
     "elapsed": 980,
     "status": "ok",
     "timestamp": 1587396797578,
     "user": {
      "displayName": "Diego Bettega",
      "photoUrl": "",
      "userId": "18155426968625496378"
     },
     "user_tz": -60
    },
    "id": "yubfEJmiwcLF",
    "outputId": "2c522bb9-9671-4ae7-c811-e8381fc0af6b"
   },
   "outputs": [
    {
     "name": "stdout",
     "output_type": "stream",
     "text": [
      "88109 records (70%) are used for traning \n",
      "37762 records (30%) are used for testing\n"
     ]
    }
   ],
   "source": [
    "split = StratifiedShuffleSplit(n_splits=1, test_size=0.30, random_state=1)\n",
    "for train_index, test_index in split.split(df, df['Rating']):\n",
    "    train = df.loc[train_index]\n",
    "    train.reset_index(inplace=True,drop=True)\n",
    "    test = df.loc[test_index]\n",
    "    test.reset_index(inplace=True,drop=True)\n",
    "\n",
    "print('%.0f records (%.0f%%) are used for traning \\n%.0f records (%.0f%%) are used for testing' % (len(train), (100*len(train)/(len(df))), len(test), (100*len(test)/(len(df)))))"
   ]
  },
  {
   "cell_type": "markdown",
   "metadata": {
    "colab_type": "text",
    "id": "8O5IOPDCBGFp"
   },
   "source": [
    "Build Popularity Recommender model (Non-personalised) to consider both the mean and the number of ratings in equal measure:"
   ]
  },
  {
   "cell_type": "code",
   "execution_count": 9,
   "metadata": {
    "colab": {
     "base_uri": "https://localhost:8080/",
     "height": 235
    },
    "colab_type": "code",
    "executionInfo": {
     "elapsed": 1706,
     "status": "ok",
     "timestamp": 1587396798315,
     "user": {
      "displayName": "Diego Bettega",
      "photoUrl": "",
      "userId": "18155426968625496378"
     },
     "user_tz": -60
    },
    "id": "coupDpx966SS",
    "outputId": "78857a9c-9814-461c-8d17-23c4219cd08e"
   },
   "outputs": [
    {
     "data": {
      "text/html": [
       "<div>\n",
       "<style scoped>\n",
       "    .dataframe tbody tr th:only-of-type {\n",
       "        vertical-align: middle;\n",
       "    }\n",
       "\n",
       "    .dataframe tbody tr th {\n",
       "        vertical-align: top;\n",
       "    }\n",
       "\n",
       "    .dataframe thead th {\n",
       "        text-align: right;\n",
       "    }\n",
       "</style>\n",
       "<table border=\"1\" class=\"dataframe\">\n",
       "  <thead>\n",
       "    <tr style=\"text-align: right;\">\n",
       "      <th></th>\n",
       "      <th>mean_ratings</th>\n",
       "      <th>count_ratings</th>\n",
       "      <th>score</th>\n",
       "      <th>Rank</th>\n",
       "    </tr>\n",
       "    <tr>\n",
       "      <th>productId</th>\n",
       "      <th></th>\n",
       "      <th></th>\n",
       "      <th></th>\n",
       "      <th></th>\n",
       "    </tr>\n",
       "  </thead>\n",
       "  <tbody>\n",
       "    <tr>\n",
       "      <td>B003ES5ZUU</td>\n",
       "      <td>4.876923</td>\n",
       "      <td>130</td>\n",
       "      <td>1.000000</td>\n",
       "      <td>1.0</td>\n",
       "    </tr>\n",
       "    <tr>\n",
       "      <td>B0088CJT4U</td>\n",
       "      <td>4.222973</td>\n",
       "      <td>148</td>\n",
       "      <td>0.977778</td>\n",
       "      <td>2.0</td>\n",
       "    </tr>\n",
       "    <tr>\n",
       "      <td>B007WTAJTO</td>\n",
       "      <td>4.780702</td>\n",
       "      <td>114</td>\n",
       "      <td>0.928038</td>\n",
       "      <td>3.0</td>\n",
       "    </tr>\n",
       "    <tr>\n",
       "      <td>B000N99BBC</td>\n",
       "      <td>4.775701</td>\n",
       "      <td>107</td>\n",
       "      <td>0.901576</td>\n",
       "      <td>4.0</td>\n",
       "    </tr>\n",
       "    <tr>\n",
       "      <td>B00829TIEK</td>\n",
       "      <td>4.476190</td>\n",
       "      <td>105</td>\n",
       "      <td>0.853664</td>\n",
       "      <td>5.0</td>\n",
       "    </tr>\n",
       "  </tbody>\n",
       "</table>\n",
       "</div>"
      ],
      "text/plain": [
       "            mean_ratings  count_ratings     score  Rank\n",
       "productId                                              \n",
       "B003ES5ZUU      4.876923            130  1.000000   1.0\n",
       "B0088CJT4U      4.222973            148  0.977778   2.0\n",
       "B007WTAJTO      4.780702            114  0.928038   3.0\n",
       "B000N99BBC      4.775701            107  0.901576   4.0\n",
       "B00829TIEK      4.476190            105  0.853664   5.0"
      ]
     },
     "execution_count": 9,
     "metadata": {},
     "output_type": "execute_result"
    }
   ],
   "source": [
    "mean_ratings = train.groupby('productId')['Rating'].mean()\n",
    "count_ratings = train.groupby('productId')['Rating'].count()\n",
    "popular_rec_system = pd.concat([pd.DataFrame(mean_ratings), pd.DataFrame(count_ratings)], axis=1)\n",
    "popular_rec_system.columns = ['mean_ratings', 'count_ratings']\n",
    "popular_rec_system['score'] = (popular_rec_system['mean_ratings']-1)/4 + (popular_rec_system['count_ratings']-popular_rec_system['count_ratings'].min()) / (popular_rec_system['count_ratings'].max()-popular_rec_system['count_ratings'].min())\n",
    "popular_rec_system['score'] = (popular_rec_system['score']-popular_rec_system['score'].min()) / (popular_rec_system['score'].max()-popular_rec_system['score'].min())\n",
    "popular_rec_system = popular_rec_system.sort_values('score', ascending=False)\n",
    "popular_rec_system['Rank'] = popular_rec_system['score'].rank(ascending=0, method='first') \n",
    "popular_rec_system = popular_rec_system.head(5)\n",
    "popular_rec_system"
   ]
  },
  {
   "cell_type": "markdown",
   "metadata": {},
   "source": [
    "Evaluation of the Popularity Recommender model on the test set only for the top 5 products:"
   ]
  },
  {
   "cell_type": "code",
   "execution_count": 23,
   "metadata": {},
   "outputs": [
    {
     "name": "stdout",
     "output_type": "stream",
     "text": [
      "RMSE score: 0.83\n"
     ]
    }
   ],
   "source": [
    "df_popular_rec_system = pd.merge(test[test['productId'].isin(list(popular_rec_system.index))], popular_rec_system, left_on='productId', right_on='productId', how='left', suffixes=('', 'predicted')).drop(['count_ratings','score','Rank'], axis=1)\n",
    "print('RMSE score:', round(mean_squared_error(df_popular_rec_system['Rating'].values, df_popular_rec_system['mean_ratings'].values, squared=False),2))"
   ]
  },
  {
   "cell_type": "markdown",
   "metadata": {
    "colab_type": "text",
    "id": "Ajk7fDmaGcnD"
   },
   "source": [
    "Build Collaborative Filtering model. I will start using KNNWithMeans with a grid search:"
   ]
  },
  {
   "cell_type": "code",
   "execution_count": 38,
   "metadata": {},
   "outputs": [
    {
     "name": "stdout",
     "output_type": "stream",
     "text": [
      "Computing the msd similarity matrix...\n",
      "Done computing similarity matrix.\n",
      "Computing the msd similarity matrix...\n",
      "Done computing similarity matrix.\n",
      "Computing the msd similarity matrix...\n",
      "Done computing similarity matrix.\n",
      "Computing the msd similarity matrix...\n",
      "Done computing similarity matrix.\n",
      "Computing the msd similarity matrix...\n",
      "Done computing similarity matrix.\n",
      "Computing the msd similarity matrix...\n",
      "Done computing similarity matrix.\n",
      "Computing the msd similarity matrix...\n",
      "Done computing similarity matrix.\n",
      "Computing the msd similarity matrix...\n",
      "Done computing similarity matrix.\n",
      "Computing the msd similarity matrix...\n",
      "Done computing similarity matrix.\n",
      "Computing the msd similarity matrix...\n",
      "Done computing similarity matrix.\n",
      "Computing the msd similarity matrix...\n",
      "Done computing similarity matrix.\n",
      "Computing the msd similarity matrix...\n",
      "Done computing similarity matrix.\n",
      "Computing the msd similarity matrix...\n",
      "Done computing similarity matrix.\n",
      "Computing the msd similarity matrix...\n",
      "Done computing similarity matrix.\n",
      "Computing the msd similarity matrix...\n",
      "Done computing similarity matrix.\n",
      "Computing the msd similarity matrix...\n",
      "Done computing similarity matrix.\n",
      "Computing the msd similarity matrix...\n",
      "Done computing similarity matrix.\n",
      "Computing the msd similarity matrix...\n",
      "Done computing similarity matrix.\n",
      "Computing the msd similarity matrix...\n",
      "Done computing similarity matrix.\n",
      "Computing the msd similarity matrix...\n",
      "Done computing similarity matrix.\n",
      "Computing the msd similarity matrix...\n",
      "Done computing similarity matrix.\n",
      "Computing the msd similarity matrix...\n",
      "Done computing similarity matrix.\n",
      "Computing the msd similarity matrix...\n",
      "Done computing similarity matrix.\n",
      "Computing the msd similarity matrix...\n",
      "Done computing similarity matrix.\n",
      "Computing the msd similarity matrix...\n",
      "Done computing similarity matrix.\n",
      "Computing the msd similarity matrix...\n",
      "Done computing similarity matrix.\n",
      "Computing the msd similarity matrix...\n",
      "Done computing similarity matrix.\n",
      "Computing the msd similarity matrix...\n",
      "Done computing similarity matrix.\n",
      "Computing the msd similarity matrix...\n",
      "Done computing similarity matrix.\n",
      "Computing the msd similarity matrix...\n",
      "Done computing similarity matrix.\n",
      "Computing the msd similarity matrix...\n",
      "Done computing similarity matrix.\n",
      "Computing the msd similarity matrix...\n",
      "Done computing similarity matrix.\n",
      "Computing the msd similarity matrix...\n",
      "Done computing similarity matrix.\n",
      "Computing the msd similarity matrix...\n",
      "Done computing similarity matrix.\n",
      "Computing the msd similarity matrix...\n",
      "Done computing similarity matrix.\n",
      "Computing the msd similarity matrix...\n",
      "Done computing similarity matrix.\n",
      "Best Parameters: {'name': 'msd', 'min_support': 3, 'user_based': False}\n",
      "RMSE score: 1.07\n"
     ]
    }
   ],
   "source": [
    "reader = Reader(rating_scale=(1, 5))\n",
    "data = Dataset.load_from_df(df.copy()[['userId', 'productId', 'Rating']], reader=reader)\n",
    "\n",
    "param_grid = {'name': ['msd', 'cosine'],\n",
    "               'min_support': [3, 4, 5],\n",
    "               'user_based': [False, True]}\n",
    "\n",
    "gs_knn = GridSearchCV(KNNWithMeans, param_grid, measures=['rmse'], cv=3)\n",
    "gs_knn.fit(data)\n",
    "\n",
    "print('Best Parameters:', gs_knn.best_params['rmse'])\n",
    "print('RMSE score:', round(gs_knn.best_score['rmse'],2))"
   ]
  },
  {
   "cell_type": "markdown",
   "metadata": {},
   "source": [
    "I can also try SVD:"
   ]
  },
  {
   "cell_type": "code",
   "execution_count": 26,
   "metadata": {},
   "outputs": [
    {
     "name": "stdout",
     "output_type": "stream",
     "text": [
      "Best Parameters: {'n_epochs': 2, 'n_factors': 100, 'lr_all': 0.005, 'reg_all': 0.4}\n",
      "RMSE score: 1.02\n"
     ]
    }
   ],
   "source": [
    "param_grid = {'n_epochs': [1, 2],\n",
    "              'n_factors': [100, 200],\n",
    "              'lr_all': [0.004, 0.005],\n",
    "              'reg_all': [0.4, 0.6]}\n",
    "\n",
    "gs_svd = GridSearchCV(SVD, param_grid, measures=['rmse'], cv=3)\n",
    "gs_svd.fit(data)\n",
    "\n",
    "print('Best Parameters:', gs_svd.best_params['rmse'])\n",
    "print('RMSE score:', round(gs_svd.best_score['rmse'],2))"
   ]
  },
  {
   "cell_type": "markdown",
   "metadata": {},
   "source": [
    "I use the best algo from the 2 grid searches and I train on the treaining set and validate on the test set:"
   ]
  },
  {
   "cell_type": "code",
   "execution_count": 41,
   "metadata": {},
   "outputs": [
    {
     "name": "stdout",
     "output_type": "stream",
     "text": [
      "RMSE score: 1.01\n"
     ]
    }
   ],
   "source": [
    "trainset, testset = surprise_train_test_split(data, test_size=.3)\n",
    "\n",
    "algo = gs_svd.best_estimator['rmse']\n",
    "algo.fit(trainset)\n",
    "\n",
    "predictions = algo.test(testset)\n",
    "print('RMSE score:', round(accuracy.rmse(predictions, verbose=False),2))"
   ]
  },
  {
   "cell_type": "markdown",
   "metadata": {},
   "source": [
    "Get top 5 recommendations for each user:"
   ]
  },
  {
   "cell_type": "code",
   "execution_count": 42,
   "metadata": {
    "scrolled": true
   },
   "outputs": [
    {
     "data": {
      "text/html": [
       "<div>\n",
       "<style scoped>\n",
       "    .dataframe tbody tr th:only-of-type {\n",
       "        vertical-align: middle;\n",
       "    }\n",
       "\n",
       "    .dataframe tbody tr th {\n",
       "        vertical-align: top;\n",
       "    }\n",
       "\n",
       "    .dataframe thead th {\n",
       "        text-align: right;\n",
       "    }\n",
       "</style>\n",
       "<table border=\"1\" class=\"dataframe\">\n",
       "  <thead>\n",
       "    <tr style=\"text-align: right;\">\n",
       "      <th></th>\n",
       "      <th>Rec 1</th>\n",
       "      <th>Rec 2</th>\n",
       "      <th>Rec 3</th>\n",
       "      <th>Rec 4</th>\n",
       "      <th>Rec 5</th>\n",
       "    </tr>\n",
       "    <tr>\n",
       "      <th>userId</th>\n",
       "      <th></th>\n",
       "      <th></th>\n",
       "      <th></th>\n",
       "      <th></th>\n",
       "      <th></th>\n",
       "    </tr>\n",
       "  </thead>\n",
       "  <tbody>\n",
       "    <tr>\n",
       "      <td>A1901NTE8LFJF6</td>\n",
       "      <td>B001769K3O</td>\n",
       "      <td>B003GALRIA</td>\n",
       "      <td>B008AT6BMY</td>\n",
       "      <td>B003B4AVRE</td>\n",
       "      <td>B001VEIYAC</td>\n",
       "    </tr>\n",
       "    <tr>\n",
       "      <td>AT53ZTTO707MB</td>\n",
       "      <td>B00DTZYHX4</td>\n",
       "      <td>B00ENZRS76</td>\n",
       "      <td>B006OM75I8</td>\n",
       "      <td>B009A68TMQ</td>\n",
       "      <td>B00IMZKDOS</td>\n",
       "    </tr>\n",
       "    <tr>\n",
       "      <td>ABIVKBMSIPEDY</td>\n",
       "      <td>B00GV4UHDO</td>\n",
       "      <td>B00HVT27B8</td>\n",
       "      <td>B004SKBIH2</td>\n",
       "      <td>B004C13VWC</td>\n",
       "      <td>B00FR6VL50</td>\n",
       "    </tr>\n",
       "    <tr>\n",
       "      <td>A3QMJMTLJC34QC</td>\n",
       "      <td>B004YKXGIK</td>\n",
       "      <td>B003HFCDLY</td>\n",
       "      <td>B001HTX1XQ</td>\n",
       "      <td>B000ADKTRG</td>\n",
       "      <td>B002TMRZOQ</td>\n",
       "    </tr>\n",
       "    <tr>\n",
       "      <td>A2J96FILPQA01</td>\n",
       "      <td>B000VX6XL6</td>\n",
       "      <td>B0019EHU8G</td>\n",
       "      <td>B008EQZ25K</td>\n",
       "      <td>B0052L77QW</td>\n",
       "      <td>B0041OSQB6</td>\n",
       "    </tr>\n",
       "  </tbody>\n",
       "</table>\n",
       "</div>"
      ],
      "text/plain": [
       "                     Rec 1       Rec 2       Rec 3       Rec 4       Rec 5\n",
       "userId                                                                    \n",
       "A1901NTE8LFJF6  B001769K3O  B003GALRIA  B008AT6BMY  B003B4AVRE  B001VEIYAC\n",
       "AT53ZTTO707MB   B00DTZYHX4  B00ENZRS76  B006OM75I8  B009A68TMQ  B00IMZKDOS\n",
       "ABIVKBMSIPEDY   B00GV4UHDO  B00HVT27B8  B004SKBIH2  B004C13VWC  B00FR6VL50\n",
       "A3QMJMTLJC34QC  B004YKXGIK  B003HFCDLY  B001HTX1XQ  B000ADKTRG  B002TMRZOQ\n",
       "A2J96FILPQA01   B000VX6XL6  B0019EHU8G  B008EQZ25K  B0052L77QW  B0041OSQB6"
      ]
     },
     "execution_count": 42,
     "metadata": {},
     "output_type": "execute_result"
    }
   ],
   "source": [
    "def get_top_n(predictions, n=5):\n",
    "    '''Return the top-N recommendation for each user from a set of predictions.\n",
    "    Args:\n",
    "        predictions(list of Prediction objects): The list of predictions, as\n",
    "            returned by the test method of an algorithm.\n",
    "        n(int): The number of recommendation to output for each user. Default\n",
    "            is 10.\n",
    "    Returns:\n",
    "    A dict where keys are user (raw) ids and values are lists of tuples:\n",
    "        [(raw item id, rating estimation), ...] of size n.\n",
    "    '''\n",
    "\n",
    "    # First map the predictions to each user.\n",
    "    top_n = defaultdict(list)\n",
    "    for uid, iid, true_r, est, _ in predictions:\n",
    "        top_n[uid].append((iid, est))\n",
    "\n",
    "    # Then sort the predictions for each user and retrieve the k highest ones.\n",
    "    for uid, user_ratings in top_n.items():\n",
    "        user_ratings.sort(key=lambda x: x[1], reverse=True)\n",
    "        top_n[uid] = user_ratings[:n]\n",
    "\n",
    "    return top_n\n",
    "\n",
    "top_n = get_top_n(predictions)\n",
    "\n",
    "users = []\n",
    "recommendations = []\n",
    "for uid, user_ratings in top_n.items():\n",
    "    users.append(uid)\n",
    "    recommendations.append([iid for (iid, _) in user_ratings])\n",
    "\n",
    "recommendations = pd.concat([pd.DataFrame(users), pd.DataFrame(recommendations)], axis=1)\n",
    "recommendations.columns = ['userId', 'Rec 1', 'Rec 2', 'Rec 3', 'Rec 4', 'Rec 5']\n",
    "recommendations.set_index('userId', drop=True, inplace=True)\n",
    "recommendations.head()"
   ]
  },
  {
   "cell_type": "markdown",
   "metadata": {},
   "source": [
    "I can also use Autoencoders with PyTorch to create a recommendations system. First I will create a match table to convert the User ID: "
   ]
  },
  {
   "cell_type": "code",
   "execution_count": 93,
   "metadata": {},
   "outputs": [
    {
     "data": {
      "text/html": [
       "<div>\n",
       "<style scoped>\n",
       "    .dataframe tbody tr th:only-of-type {\n",
       "        vertical-align: middle;\n",
       "    }\n",
       "\n",
       "    .dataframe tbody tr th {\n",
       "        vertical-align: top;\n",
       "    }\n",
       "\n",
       "    .dataframe thead th {\n",
       "        text-align: right;\n",
       "    }\n",
       "</style>\n",
       "<table border=\"1\" class=\"dataframe\">\n",
       "  <thead>\n",
       "    <tr style=\"text-align: right;\">\n",
       "      <th></th>\n",
       "      <th>userId</th>\n",
       "      <th>new_userId</th>\n",
       "    </tr>\n",
       "  </thead>\n",
       "  <tbody>\n",
       "    <tr>\n",
       "      <td>0</td>\n",
       "      <td>A2CIQEY05SPHTZ</td>\n",
       "      <td>1</td>\n",
       "    </tr>\n",
       "    <tr>\n",
       "      <td>1</td>\n",
       "      <td>A370XYLIZCSK1Y</td>\n",
       "      <td>2</td>\n",
       "    </tr>\n",
       "    <tr>\n",
       "      <td>2</td>\n",
       "      <td>ANTN61S4L7WG9</td>\n",
       "      <td>3</td>\n",
       "    </tr>\n",
       "    <tr>\n",
       "      <td>3</td>\n",
       "      <td>A2HPJKM7L4EOQB</td>\n",
       "      <td>4</td>\n",
       "    </tr>\n",
       "    <tr>\n",
       "      <td>4</td>\n",
       "      <td>A1MRPX3RM48T2I</td>\n",
       "      <td>5</td>\n",
       "    </tr>\n",
       "    <tr>\n",
       "      <td>...</td>\n",
       "      <td>...</td>\n",
       "      <td>...</td>\n",
       "    </tr>\n",
       "    <tr>\n",
       "      <td>1535</td>\n",
       "      <td>A1WUQF5HWBAQJU</td>\n",
       "      <td>1536</td>\n",
       "    </tr>\n",
       "    <tr>\n",
       "      <td>1536</td>\n",
       "      <td>A30ADSBTWCORYC</td>\n",
       "      <td>1537</td>\n",
       "    </tr>\n",
       "    <tr>\n",
       "      <td>1537</td>\n",
       "      <td>A17NVM7IAPF2NS</td>\n",
       "      <td>1538</td>\n",
       "    </tr>\n",
       "    <tr>\n",
       "      <td>1538</td>\n",
       "      <td>A2HBOG4LVIY15L</td>\n",
       "      <td>1539</td>\n",
       "    </tr>\n",
       "    <tr>\n",
       "      <td>1539</td>\n",
       "      <td>A3KTWUXXB8KKC7</td>\n",
       "      <td>1540</td>\n",
       "    </tr>\n",
       "  </tbody>\n",
       "</table>\n",
       "<p>1540 rows × 2 columns</p>\n",
       "</div>"
      ],
      "text/plain": [
       "              userId  new_userId\n",
       "0     A2CIQEY05SPHTZ           1\n",
       "1     A370XYLIZCSK1Y           2\n",
       "2      ANTN61S4L7WG9           3\n",
       "3     A2HPJKM7L4EOQB           4\n",
       "4     A1MRPX3RM48T2I           5\n",
       "...              ...         ...\n",
       "1535  A1WUQF5HWBAQJU        1536\n",
       "1536  A30ADSBTWCORYC        1537\n",
       "1537  A17NVM7IAPF2NS        1538\n",
       "1538  A2HBOG4LVIY15L        1539\n",
       "1539  A3KTWUXXB8KKC7        1540\n",
       "\n",
       "[1540 rows x 2 columns]"
      ]
     },
     "execution_count": 93,
     "metadata": {},
     "output_type": "execute_result"
    }
   ],
   "source": [
    "userId_match_table = pd.concat([pd.DataFrame(df['userId'].unique()), pd.DataFrame(np.arange(0,df['userId'].nunique())+1)],axis=1)\n",
    "userId_match_table.columns = ['userId', 'new_userId']\n",
    "userId_match_table"
   ]
  },
  {
   "cell_type": "markdown",
   "metadata": {},
   "source": [
    "Then, I create a table to convert the Product ID:"
   ]
  },
  {
   "cell_type": "code",
   "execution_count": 94,
   "metadata": {},
   "outputs": [
    {
     "data": {
      "text/html": [
       "<div>\n",
       "<style scoped>\n",
       "    .dataframe tbody tr th:only-of-type {\n",
       "        vertical-align: middle;\n",
       "    }\n",
       "\n",
       "    .dataframe tbody tr th {\n",
       "        vertical-align: top;\n",
       "    }\n",
       "\n",
       "    .dataframe thead th {\n",
       "        text-align: right;\n",
       "    }\n",
       "</style>\n",
       "<table border=\"1\" class=\"dataframe\">\n",
       "  <thead>\n",
       "    <tr style=\"text-align: right;\">\n",
       "      <th></th>\n",
       "      <th>productId</th>\n",
       "      <th>new_productId</th>\n",
       "    </tr>\n",
       "  </thead>\n",
       "  <tbody>\n",
       "    <tr>\n",
       "      <td>0</td>\n",
       "      <td>B000W9UYL4</td>\n",
       "      <td>1</td>\n",
       "    </tr>\n",
       "    <tr>\n",
       "      <td>1</td>\n",
       "      <td>B00347L6I6</td>\n",
       "      <td>2</td>\n",
       "    </tr>\n",
       "    <tr>\n",
       "      <td>2</td>\n",
       "      <td>B003FMVPFY</td>\n",
       "      <td>3</td>\n",
       "    </tr>\n",
       "    <tr>\n",
       "      <td>3</td>\n",
       "      <td>B002DW97WK</td>\n",
       "      <td>4</td>\n",
       "    </tr>\n",
       "    <tr>\n",
       "      <td>4</td>\n",
       "      <td>B0015HYPOO</td>\n",
       "      <td>5</td>\n",
       "    </tr>\n",
       "    <tr>\n",
       "      <td>...</td>\n",
       "      <td>...</td>\n",
       "      <td>...</td>\n",
       "    </tr>\n",
       "    <tr>\n",
       "      <td>48185</td>\n",
       "      <td>B002Q5KOCQ</td>\n",
       "      <td>48186</td>\n",
       "    </tr>\n",
       "    <tr>\n",
       "      <td>48186</td>\n",
       "      <td>B000M4F9GO</td>\n",
       "      <td>48187</td>\n",
       "    </tr>\n",
       "    <tr>\n",
       "      <td>48187</td>\n",
       "      <td>B004RCNRL6</td>\n",
       "      <td>48188</td>\n",
       "    </tr>\n",
       "    <tr>\n",
       "      <td>48188</td>\n",
       "      <td>B00008ELLG</td>\n",
       "      <td>48189</td>\n",
       "    </tr>\n",
       "    <tr>\n",
       "      <td>48189</td>\n",
       "      <td>B0055E8B0M</td>\n",
       "      <td>48190</td>\n",
       "    </tr>\n",
       "  </tbody>\n",
       "</table>\n",
       "<p>48190 rows × 2 columns</p>\n",
       "</div>"
      ],
      "text/plain": [
       "        productId  new_productId\n",
       "0      B000W9UYL4              1\n",
       "1      B00347L6I6              2\n",
       "2      B003FMVPFY              3\n",
       "3      B002DW97WK              4\n",
       "4      B0015HYPOO              5\n",
       "...           ...            ...\n",
       "48185  B002Q5KOCQ          48186\n",
       "48186  B000M4F9GO          48187\n",
       "48187  B004RCNRL6          48188\n",
       "48188  B00008ELLG          48189\n",
       "48189  B0055E8B0M          48190\n",
       "\n",
       "[48190 rows x 2 columns]"
      ]
     },
     "execution_count": 94,
     "metadata": {},
     "output_type": "execute_result"
    }
   ],
   "source": [
    "productId_match_table = pd.concat([pd.DataFrame(df['productId'].unique()), pd.DataFrame(np.arange(0,df['productId'].nunique())+1)],axis=1)\n",
    "productId_match_table.columns = ['productId', 'new_productId']\n",
    "productId_match_table"
   ]
  },
  {
   "cell_type": "markdown",
   "metadata": {},
   "source": [
    "I apply these changes mapping the new IDs to the original dataframe:"
   ]
  },
  {
   "cell_type": "code",
   "execution_count": 112,
   "metadata": {},
   "outputs": [
    {
     "data": {
      "text/html": [
       "<div>\n",
       "<style scoped>\n",
       "    .dataframe tbody tr th:only-of-type {\n",
       "        vertical-align: middle;\n",
       "    }\n",
       "\n",
       "    .dataframe tbody tr th {\n",
       "        vertical-align: top;\n",
       "    }\n",
       "\n",
       "    .dataframe thead th {\n",
       "        text-align: right;\n",
       "    }\n",
       "</style>\n",
       "<table border=\"1\" class=\"dataframe\">\n",
       "  <thead>\n",
       "    <tr style=\"text-align: right;\">\n",
       "      <th></th>\n",
       "      <th>new_userId</th>\n",
       "      <th>new_productId</th>\n",
       "      <th>Rating</th>\n",
       "    </tr>\n",
       "  </thead>\n",
       "  <tbody>\n",
       "    <tr>\n",
       "      <td>0</td>\n",
       "      <td>1</td>\n",
       "      <td>1</td>\n",
       "      <td>2</td>\n",
       "    </tr>\n",
       "    <tr>\n",
       "      <td>1</td>\n",
       "      <td>2</td>\n",
       "      <td>2</td>\n",
       "      <td>5</td>\n",
       "    </tr>\n",
       "    <tr>\n",
       "      <td>2</td>\n",
       "      <td>3</td>\n",
       "      <td>3</td>\n",
       "      <td>5</td>\n",
       "    </tr>\n",
       "    <tr>\n",
       "      <td>3</td>\n",
       "      <td>4</td>\n",
       "      <td>4</td>\n",
       "      <td>4</td>\n",
       "    </tr>\n",
       "    <tr>\n",
       "      <td>4</td>\n",
       "      <td>5</td>\n",
       "      <td>5</td>\n",
       "      <td>4</td>\n",
       "    </tr>\n",
       "    <tr>\n",
       "      <td>...</td>\n",
       "      <td>...</td>\n",
       "      <td>...</td>\n",
       "      <td>...</td>\n",
       "    </tr>\n",
       "    <tr>\n",
       "      <td>125866</td>\n",
       "      <td>324</td>\n",
       "      <td>1070</td>\n",
       "      <td>5</td>\n",
       "    </tr>\n",
       "    <tr>\n",
       "      <td>125867</td>\n",
       "      <td>1445</td>\n",
       "      <td>486</td>\n",
       "      <td>4</td>\n",
       "    </tr>\n",
       "    <tr>\n",
       "      <td>125868</td>\n",
       "      <td>439</td>\n",
       "      <td>48189</td>\n",
       "      <td>4</td>\n",
       "    </tr>\n",
       "    <tr>\n",
       "      <td>125869</td>\n",
       "      <td>668</td>\n",
       "      <td>48190</td>\n",
       "      <td>2</td>\n",
       "    </tr>\n",
       "    <tr>\n",
       "      <td>125870</td>\n",
       "      <td>1151</td>\n",
       "      <td>33649</td>\n",
       "      <td>5</td>\n",
       "    </tr>\n",
       "  </tbody>\n",
       "</table>\n",
       "<p>125871 rows × 3 columns</p>\n",
       "</div>"
      ],
      "text/plain": [
       "        new_userId  new_productId  Rating\n",
       "0                1              1       2\n",
       "1                2              2       5\n",
       "2                3              3       5\n",
       "3                4              4       4\n",
       "4                5              5       4\n",
       "...            ...            ...     ...\n",
       "125866         324           1070       5\n",
       "125867        1445            486       4\n",
       "125868         439          48189       4\n",
       "125869         668          48190       2\n",
       "125870        1151          33649       5\n",
       "\n",
       "[125871 rows x 3 columns]"
      ]
     },
     "execution_count": 112,
     "metadata": {},
     "output_type": "execute_result"
    }
   ],
   "source": [
    "df_autoencoders = pd.merge(df.copy(), userId_match_table, left_on='userId', right_on='userId', how='left').drop('userId', axis=1)\n",
    "df_autoencoders = pd.merge(df_autoencoders, productId_match_table, left_on='productId', right_on='productId', how='left').drop('productId', axis=1)\n",
    "df_autoencoders = df_autoencoders[['new_userId', 'new_productId', 'Rating']]\n",
    "df_autoencoders = df_autoencoders.astype(int)\n",
    "df_autoencoders"
   ]
  },
  {
   "cell_type": "markdown",
   "metadata": {},
   "source": [
    "Converting the training and test set into arrays:"
   ]
  },
  {
   "cell_type": "code",
   "execution_count": 114,
   "metadata": {},
   "outputs": [],
   "source": [
    "training_set = np.array(train, dtype = 'int')\n",
    "test_set = np.array(test, dtype = 'int')"
   ]
  },
  {
   "cell_type": "markdown",
   "metadata": {},
   "source": [
    "Getting the number of users and products:"
   ]
  },
  {
   "cell_type": "code",
   "execution_count": 115,
   "metadata": {},
   "outputs": [],
   "source": [
    "nb_users = int(max(max(training_set[:,0]), max(test_set[:,0])))\n",
    "nb_products = int(max(max(training_set[:,1]), max(test_set[:,1])))"
   ]
  },
  {
   "cell_type": "markdown",
   "metadata": {},
   "source": [
    "Converting the data into an array with users in lines and products in columns:"
   ]
  },
  {
   "cell_type": "code",
   "execution_count": 116,
   "metadata": {},
   "outputs": [],
   "source": [
    "def convert(data):\n",
    "    new_data = []\n",
    "    for id_users in range(1, nb_users + 1):\n",
    "        id_products = data[:,1][data[:,0] == id_users]\n",
    "        id_ratings = data[:,2][data[:,0] == id_users]\n",
    "        ratings = np.zeros(nb_products)\n",
    "        ratings[id_products - 1] = id_ratings\n",
    "        new_data.append(list(ratings))\n",
    "    return new_data\n",
    "\n",
    "training_set = convert(training_set)\n",
    "test_set = convert(test_set)"
   ]
  },
  {
   "cell_type": "markdown",
   "metadata": {},
   "source": [
    "Converting the data into Torch tensors:"
   ]
  },
  {
   "cell_type": "code",
   "execution_count": 117,
   "metadata": {},
   "outputs": [],
   "source": [
    "training_set = torch.FloatTensor(training_set)\n",
    "test_set = torch.FloatTensor(test_set)"
   ]
  },
  {
   "cell_type": "markdown",
   "metadata": {},
   "source": [
    "Creating the architecture of the Neural Network:"
   ]
  },
  {
   "cell_type": "code",
   "execution_count": 118,
   "metadata": {},
   "outputs": [],
   "source": [
    "class SAE(nn.Module):\n",
    "    def __init__(self, ):\n",
    "        super(SAE, self).__init__()\n",
    "        self.fc1 = nn.Linear(nb_products, 20)\n",
    "        self.fc2 = nn.Linear(20, 10)\n",
    "        self.fc3 = nn.Linear(10, 20)\n",
    "        self.fc4 = nn.Linear(20, nb_products)\n",
    "        self.activation = nn.Sigmoid()\n",
    "    def forward(self, x):\n",
    "        x = self.activation(self.fc1(x))\n",
    "        x = self.activation(self.fc2(x))\n",
    "        x = self.activation(self.fc3(x))\n",
    "        x = self.fc4(x)\n",
    "        return x\n",
    "    \n",
    "sae = SAE()\n",
    "criterion = nn.MSELoss()\n",
    "optimizer = optim.RMSprop(sae.parameters(), lr = 0.01, weight_decay = 0.5)"
   ]
  },
  {
   "cell_type": "markdown",
   "metadata": {},
   "source": [
    "Training the SAE:"
   ]
  },
  {
   "cell_type": "code",
   "execution_count": 119,
   "metadata": {},
   "outputs": [
    {
     "name": "stdout",
     "output_type": "stream",
     "text": [
      "epoch: 1 loss: tensor(4.3693)\n",
      "epoch: 2 loss: tensor(4.3607)\n",
      "epoch: 3 loss: tensor(4.3410)\n",
      "epoch: 4 loss: tensor(4.3192)\n",
      "epoch: 5 loss: tensor(4.2944)\n",
      "epoch: 6 loss: tensor(4.2654)\n",
      "epoch: 7 loss: tensor(4.2309)\n",
      "epoch: 8 loss: tensor(4.1906)\n",
      "epoch: 9 loss: tensor(4.1464)\n",
      "epoch: 10 loss: tensor(4.1014)\n",
      "epoch: 11 loss: tensor(4.0580)\n",
      "epoch: 12 loss: tensor(4.0170)\n",
      "epoch: 13 loss: tensor(3.9783)\n",
      "epoch: 14 loss: tensor(3.9417)\n",
      "epoch: 15 loss: tensor(3.9069)\n",
      "epoch: 16 loss: tensor(3.8735)\n",
      "epoch: 17 loss: tensor(3.8415)\n",
      "epoch: 18 loss: tensor(3.8108)\n",
      "epoch: 19 loss: tensor(3.7811)\n",
      "epoch: 20 loss: tensor(3.7524)\n",
      "epoch: 21 loss: tensor(3.7247)\n",
      "epoch: 22 loss: tensor(3.6978)\n",
      "epoch: 23 loss: tensor(3.6717)\n",
      "epoch: 24 loss: tensor(3.6464)\n",
      "epoch: 25 loss: tensor(3.6217)\n",
      "epoch: 26 loss: tensor(3.5977)\n",
      "epoch: 27 loss: tensor(3.5744)\n",
      "epoch: 28 loss: tensor(3.5516)\n",
      "epoch: 29 loss: tensor(3.5294)\n",
      "epoch: 30 loss: tensor(3.5077)\n",
      "epoch: 31 loss: tensor(3.4865)\n",
      "epoch: 32 loss: tensor(3.4658)\n",
      "epoch: 33 loss: tensor(3.4455)\n",
      "epoch: 34 loss: tensor(3.4257)\n",
      "epoch: 35 loss: tensor(3.4063)\n",
      "epoch: 36 loss: tensor(3.3873)\n",
      "epoch: 37 loss: tensor(3.3687)\n",
      "epoch: 38 loss: tensor(3.3504)\n",
      "epoch: 39 loss: tensor(3.3325)\n",
      "epoch: 40 loss: tensor(3.3149)\n",
      "epoch: 41 loss: tensor(3.2977)\n",
      "epoch: 42 loss: tensor(3.2808)\n",
      "epoch: 43 loss: tensor(3.2642)\n",
      "epoch: 44 loss: tensor(3.2478)\n",
      "epoch: 45 loss: tensor(3.2318)\n",
      "epoch: 46 loss: tensor(3.2160)\n",
      "epoch: 47 loss: tensor(3.2005)\n",
      "epoch: 48 loss: tensor(3.1852)\n",
      "epoch: 49 loss: tensor(3.1702)\n",
      "epoch: 50 loss: tensor(3.1555)\n",
      "epoch: 51 loss: tensor(3.1409)\n",
      "epoch: 52 loss: tensor(3.1266)\n",
      "epoch: 53 loss: tensor(3.1125)\n",
      "epoch: 54 loss: tensor(3.0986)\n",
      "epoch: 55 loss: tensor(3.0849)\n",
      "epoch: 56 loss: tensor(3.0714)\n",
      "epoch: 57 loss: tensor(3.0581)\n",
      "epoch: 58 loss: tensor(3.0450)\n",
      "epoch: 59 loss: tensor(3.0321)\n",
      "epoch: 60 loss: tensor(3.0193)\n",
      "epoch: 61 loss: tensor(3.0067)\n",
      "epoch: 62 loss: tensor(2.9943)\n",
      "epoch: 63 loss: tensor(2.9821)\n",
      "epoch: 64 loss: tensor(2.9700)\n",
      "epoch: 65 loss: tensor(2.9581)\n",
      "epoch: 66 loss: tensor(2.9463)\n",
      "epoch: 67 loss: tensor(2.9346)\n",
      "epoch: 68 loss: tensor(2.9231)\n",
      "epoch: 69 loss: tensor(2.9118)\n",
      "epoch: 70 loss: tensor(2.9006)\n",
      "epoch: 71 loss: tensor(2.8895)\n",
      "epoch: 72 loss: tensor(2.8785)\n",
      "epoch: 73 loss: tensor(2.8677)\n",
      "epoch: 74 loss: tensor(2.8570)\n",
      "epoch: 75 loss: tensor(2.8464)\n",
      "epoch: 76 loss: tensor(2.8359)\n",
      "epoch: 77 loss: tensor(2.8256)\n",
      "epoch: 78 loss: tensor(2.8154)\n",
      "epoch: 79 loss: tensor(2.8052)\n",
      "epoch: 80 loss: tensor(2.7952)\n",
      "epoch: 81 loss: tensor(2.7853)\n",
      "epoch: 82 loss: tensor(2.7755)\n",
      "epoch: 83 loss: tensor(2.7658)\n",
      "epoch: 84 loss: tensor(2.7562)\n",
      "epoch: 85 loss: tensor(2.7467)\n",
      "epoch: 86 loss: tensor(2.7373)\n",
      "epoch: 87 loss: tensor(2.7280)\n",
      "epoch: 88 loss: tensor(2.7187)\n",
      "epoch: 89 loss: tensor(2.7096)\n",
      "epoch: 90 loss: tensor(2.7005)\n",
      "epoch: 91 loss: tensor(2.6916)\n",
      "epoch: 92 loss: tensor(2.6827)\n",
      "epoch: 93 loss: tensor(2.6739)\n",
      "epoch: 94 loss: tensor(2.6652)\n",
      "epoch: 95 loss: tensor(2.6566)\n",
      "epoch: 96 loss: tensor(2.6480)\n",
      "epoch: 97 loss: tensor(2.6396)\n",
      "epoch: 98 loss: tensor(2.6312)\n",
      "epoch: 99 loss: tensor(2.6228)\n",
      "epoch: 100 loss: tensor(2.6146)\n",
      "epoch: 101 loss: tensor(2.6064)\n",
      "epoch: 102 loss: tensor(2.5983)\n",
      "epoch: 103 loss: tensor(2.5903)\n",
      "epoch: 104 loss: tensor(2.5823)\n",
      "epoch: 105 loss: tensor(2.5744)\n",
      "epoch: 106 loss: tensor(2.5666)\n",
      "epoch: 107 loss: tensor(2.5588)\n",
      "epoch: 108 loss: tensor(2.5511)\n",
      "epoch: 109 loss: tensor(2.5435)\n",
      "epoch: 110 loss: tensor(2.5359)\n",
      "epoch: 111 loss: tensor(2.5284)\n",
      "epoch: 112 loss: tensor(2.5209)\n",
      "epoch: 113 loss: tensor(2.5135)\n",
      "epoch: 114 loss: tensor(2.5062)\n",
      "epoch: 115 loss: tensor(2.4989)\n",
      "epoch: 116 loss: tensor(2.4916)\n",
      "epoch: 117 loss: tensor(2.4845)\n",
      "epoch: 118 loss: tensor(2.4773)\n",
      "epoch: 119 loss: tensor(2.4703)\n",
      "epoch: 120 loss: tensor(2.4633)\n",
      "epoch: 121 loss: tensor(2.4563)\n",
      "epoch: 122 loss: tensor(2.4494)\n",
      "epoch: 123 loss: tensor(2.4425)\n",
      "epoch: 124 loss: tensor(2.4357)\n",
      "epoch: 125 loss: tensor(2.4290)\n",
      "epoch: 126 loss: tensor(2.4223)\n",
      "epoch: 127 loss: tensor(2.4156)\n",
      "epoch: 128 loss: tensor(2.4090)\n",
      "epoch: 129 loss: tensor(2.4024)\n",
      "epoch: 130 loss: tensor(2.3959)\n",
      "epoch: 131 loss: tensor(2.3894)\n",
      "epoch: 132 loss: tensor(2.3830)\n",
      "epoch: 133 loss: tensor(2.3766)\n",
      "epoch: 134 loss: tensor(2.3702)\n",
      "epoch: 135 loss: tensor(2.3639)\n",
      "epoch: 136 loss: tensor(2.3577)\n",
      "epoch: 137 loss: tensor(2.3515)\n",
      "epoch: 138 loss: tensor(2.3453)\n",
      "epoch: 139 loss: tensor(2.3391)\n",
      "epoch: 140 loss: tensor(2.3330)\n",
      "epoch: 141 loss: tensor(2.3270)\n",
      "epoch: 142 loss: tensor(2.3210)\n",
      "epoch: 143 loss: tensor(2.3150)\n",
      "epoch: 144 loss: tensor(2.3090)\n",
      "epoch: 145 loss: tensor(2.3031)\n",
      "epoch: 146 loss: tensor(2.2973)\n",
      "epoch: 147 loss: tensor(2.2914)\n",
      "epoch: 148 loss: tensor(2.2856)\n",
      "epoch: 149 loss: tensor(2.2799)\n",
      "epoch: 150 loss: tensor(2.2742)\n",
      "epoch: 151 loss: tensor(2.2685)\n",
      "epoch: 152 loss: tensor(2.2628)\n",
      "epoch: 153 loss: tensor(2.2572)\n",
      "epoch: 154 loss: tensor(2.2516)\n",
      "epoch: 155 loss: tensor(2.2460)\n",
      "epoch: 156 loss: tensor(2.2405)\n",
      "epoch: 157 loss: tensor(2.2350)\n",
      "epoch: 158 loss: tensor(2.2296)\n",
      "epoch: 159 loss: tensor(2.2241)\n",
      "epoch: 160 loss: tensor(2.2188)\n",
      "epoch: 161 loss: tensor(2.2134)\n",
      "epoch: 162 loss: tensor(2.2081)\n",
      "epoch: 163 loss: tensor(2.2028)\n",
      "epoch: 164 loss: tensor(2.1975)\n",
      "epoch: 165 loss: tensor(2.1923)\n",
      "epoch: 166 loss: tensor(2.1870)\n",
      "epoch: 167 loss: tensor(2.1819)\n",
      "epoch: 168 loss: tensor(2.1767)\n",
      "epoch: 169 loss: tensor(2.1716)\n",
      "epoch: 170 loss: tensor(2.1665)\n",
      "epoch: 171 loss: tensor(2.1614)\n",
      "epoch: 172 loss: tensor(2.1564)\n",
      "epoch: 173 loss: tensor(2.1513)\n",
      "epoch: 174 loss: tensor(2.1464)\n",
      "epoch: 175 loss: tensor(2.1414)\n",
      "epoch: 176 loss: tensor(2.1365)\n",
      "epoch: 177 loss: tensor(2.1316)\n",
      "epoch: 178 loss: tensor(2.1267)\n",
      "epoch: 179 loss: tensor(2.1218)\n",
      "epoch: 180 loss: tensor(2.1170)\n",
      "epoch: 181 loss: tensor(2.1122)\n",
      "epoch: 182 loss: tensor(2.1074)\n",
      "epoch: 183 loss: tensor(2.1026)\n",
      "epoch: 184 loss: tensor(2.0979)\n",
      "epoch: 185 loss: tensor(2.0932)\n",
      "epoch: 186 loss: tensor(2.0885)\n",
      "epoch: 187 loss: tensor(2.0838)\n",
      "epoch: 188 loss: tensor(2.0792)\n",
      "epoch: 189 loss: tensor(2.0746)\n",
      "epoch: 190 loss: tensor(2.0700)\n",
      "epoch: 191 loss: tensor(2.0654)\n",
      "epoch: 192 loss: tensor(2.0609)\n",
      "epoch: 193 loss: tensor(2.0564)\n",
      "epoch: 194 loss: tensor(2.0519)\n",
      "epoch: 195 loss: tensor(2.0474)\n",
      "epoch: 196 loss: tensor(2.0429)\n",
      "epoch: 197 loss: tensor(2.0385)\n",
      "epoch: 198 loss: tensor(2.0341)\n",
      "epoch: 199 loss: tensor(2.0297)\n",
      "epoch: 200 loss: tensor(2.0253)\n"
     ]
    }
   ],
   "source": [
    "nb_epoch = 200\n",
    "for epoch in range(1, nb_epoch + 1):\n",
    "    train_loss = 0\n",
    "    s = 0.\n",
    "    for id_user in range(nb_users):\n",
    "        input = Variable(training_set[id_user]).unsqueeze(0)\n",
    "        target = input.clone()\n",
    "        if torch.sum(target.data > 0) > 0:\n",
    "            output = sae(input)\n",
    "            target.require_grad = False\n",
    "            output[target == 0] = 0\n",
    "            loss = criterion(output, target)\n",
    "            mean_corrector = nb_products/float(torch.sum(target.data > 0) + 1e-10)\n",
    "            loss.backward()\n",
    "            train_loss += np.sqrt(loss.data*mean_corrector)\n",
    "            s += 1.\n",
    "            optimizer.step()\n",
    "    print('epoch: '+str(epoch)+' loss: '+str(train_loss/s))"
   ]
  },
  {
   "cell_type": "markdown",
   "metadata": {
    "colab": {},
    "colab_type": "code",
    "id": "F3pL56bTRPoj"
   },
   "source": [
    "Popularity Recommender model had a RMSE of 0.83, however it has been calculated only considering the top 5 products. This model doesn't make any personalisation. I'd implement instead the Collaborative Filtering model, which had a RMSE slightly higer on the test set, but it has been calculated on the entire set (not only on the top 5 products) and it returns personalised recommendations."
   ]
  }
 ],
 "metadata": {
  "accelerator": "GPU",
  "colab": {
   "collapsed_sections": [],
   "machine_shape": "hm",
   "name": "Recommendation_System.ipynb",
   "provenance": []
  },
  "kernelspec": {
   "display_name": "Python 3",
   "language": "python",
   "name": "python3"
  },
  "language_info": {
   "codemirror_mode": {
    "name": "ipython",
    "version": 3
   },
   "file_extension": ".py",
   "mimetype": "text/x-python",
   "name": "python",
   "nbconvert_exporter": "python",
   "pygments_lexer": "ipython3",
   "version": "3.7.4"
  }
 },
 "nbformat": 4,
 "nbformat_minor": 1
}
